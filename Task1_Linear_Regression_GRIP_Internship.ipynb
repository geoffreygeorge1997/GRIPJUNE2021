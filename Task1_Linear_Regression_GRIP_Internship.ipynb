{
  "nbformat": 4,
  "nbformat_minor": 0,
  "metadata": {
    "colab": {
      "name": "Task1_Linear_Regression_GRIP_Internship.ipynb",
      "provenance": []
    },
    "kernelspec": {
      "name": "python3",
      "display_name": "Python 3"
    },
    "language_info": {
      "name": "python"
    }
  },
  "cells": [
    {
      "cell_type": "markdown",
      "metadata": {
        "id": "2nSkkDia4bLH"
      },
      "source": [
        "### **Author Name:-Geoffrey George Daniel**\n"
      ]
    },
    {
      "cell_type": "markdown",
      "metadata": {
        "id": "uxI2rlIX4vUl"
      },
      "source": [
        "### **Task 1**\n",
        "\n",
        "###**Domain:** Data Science & Business Analytics Intern\n",
        "\n",
        "**Task Type:** Simple Linear Regression\n",
        "\n",
        "**Task:** Predict the percentage of a student based on the no. of study hours using supervised ML algorithm."
      ]
    },
    {
      "cell_type": "markdown",
      "metadata": {
        "id": "uqPzYkUs8E-G"
      },
      "source": [
        "**Steps Performed:**\n",
        "1. Import Libraries.\n",
        "2. Import dataset.\n",
        "3. Exploratory Data Analysis\n",
        "4. Data Pre-processing\n",
        "5. Linear Regression Model Construction\n",
        "6. Conclusion"
      ]
    },
    {
      "cell_type": "markdown",
      "metadata": {
        "id": "CcW4UVxT8lj8"
      },
      "source": [
        "## **1. Importing necessary libraries**\n",
        "\n",
        "\n"
      ]
    },
    {
      "cell_type": "code",
      "metadata": {
        "id": "oX7M8ou484Iv"
      },
      "source": [
        "import pandas as pd                 #for data manipulation and analysis\n",
        "import numpy as np                  #for calculations\n",
        "import matplotlib.pyplot as plt     #for plotting\n",
        "%matplotlib inline"
      ],
      "execution_count": 1,
      "outputs": []
    },
    {
      "cell_type": "markdown",
      "metadata": {
        "id": "7-ePviiV8_ml"
      },
      "source": [
        "\n",
        "## **2. Importing data using a link**"
      ]
    },
    {
      "cell_type": "code",
      "metadata": {
        "id": "zXMIVgo29CFt"
      },
      "source": [
        "link = \"http://bit.ly/w-data\"     #dataset link\n",
        "data = pd.read_csv(link)    #reads the csv file and stores it in the variable data"
      ],
      "execution_count": 2,
      "outputs": []
    },
    {
      "cell_type": "markdown",
      "metadata": {
        "id": "ay8fwx659JhF"
      },
      "source": [
        "**Displaying 10 Records**"
      ]
    },
    {
      "cell_type": "code",
      "metadata": {
        "colab": {
          "base_uri": "https://localhost:8080/",
          "height": 376
        },
        "id": "3PfHNcYF9Y4-",
        "outputId": "81797336-16ae-432a-8a1a-50682f1131c6"
      },
      "source": [
        "print(\"Displaying the imported data\")\n",
        "data.head(10)   #displays first 10 records of the dataset"
      ],
      "execution_count": 3,
      "outputs": [
        {
          "output_type": "stream",
          "text": [
            "Displaying the imported data\n"
          ],
          "name": "stdout"
        },
        {
          "output_type": "execute_result",
          "data": {
            "text/html": [
              "<div>\n",
              "<style scoped>\n",
              "    .dataframe tbody tr th:only-of-type {\n",
              "        vertical-align: middle;\n",
              "    }\n",
              "\n",
              "    .dataframe tbody tr th {\n",
              "        vertical-align: top;\n",
              "    }\n",
              "\n",
              "    .dataframe thead th {\n",
              "        text-align: right;\n",
              "    }\n",
              "</style>\n",
              "<table border=\"1\" class=\"dataframe\">\n",
              "  <thead>\n",
              "    <tr style=\"text-align: right;\">\n",
              "      <th></th>\n",
              "      <th>Hours</th>\n",
              "      <th>Scores</th>\n",
              "    </tr>\n",
              "  </thead>\n",
              "  <tbody>\n",
              "    <tr>\n",
              "      <th>0</th>\n",
              "      <td>2.5</td>\n",
              "      <td>21</td>\n",
              "    </tr>\n",
              "    <tr>\n",
              "      <th>1</th>\n",
              "      <td>5.1</td>\n",
              "      <td>47</td>\n",
              "    </tr>\n",
              "    <tr>\n",
              "      <th>2</th>\n",
              "      <td>3.2</td>\n",
              "      <td>27</td>\n",
              "    </tr>\n",
              "    <tr>\n",
              "      <th>3</th>\n",
              "      <td>8.5</td>\n",
              "      <td>75</td>\n",
              "    </tr>\n",
              "    <tr>\n",
              "      <th>4</th>\n",
              "      <td>3.5</td>\n",
              "      <td>30</td>\n",
              "    </tr>\n",
              "    <tr>\n",
              "      <th>5</th>\n",
              "      <td>1.5</td>\n",
              "      <td>20</td>\n",
              "    </tr>\n",
              "    <tr>\n",
              "      <th>6</th>\n",
              "      <td>9.2</td>\n",
              "      <td>88</td>\n",
              "    </tr>\n",
              "    <tr>\n",
              "      <th>7</th>\n",
              "      <td>5.5</td>\n",
              "      <td>60</td>\n",
              "    </tr>\n",
              "    <tr>\n",
              "      <th>8</th>\n",
              "      <td>8.3</td>\n",
              "      <td>81</td>\n",
              "    </tr>\n",
              "    <tr>\n",
              "      <th>9</th>\n",
              "      <td>2.7</td>\n",
              "      <td>25</td>\n",
              "    </tr>\n",
              "  </tbody>\n",
              "</table>\n",
              "</div>"
            ],
            "text/plain": [
              "   Hours  Scores\n",
              "0    2.5      21\n",
              "1    5.1      47\n",
              "2    3.2      27\n",
              "3    8.5      75\n",
              "4    3.5      30\n",
              "5    1.5      20\n",
              "6    9.2      88\n",
              "7    5.5      60\n",
              "8    8.3      81\n",
              "9    2.7      25"
            ]
          },
          "metadata": {
            "tags": []
          },
          "execution_count": 3
        }
      ]
    },
    {
      "cell_type": "markdown",
      "metadata": {
        "id": "wYqqHCkx9tK1"
      },
      "source": [
        "## **3. EXPLORATORY DATA ANALYSIS**"
      ]
    },
    {
      "cell_type": "markdown",
      "metadata": {
        "id": "q_7dzIoF99E-"
      },
      "source": [
        "## **Dataset Description**"
      ]
    },
    {
      "cell_type": "code",
      "metadata": {
        "colab": {
          "base_uri": "https://localhost:8080/"
        },
        "id": "0rblTML9-AB8",
        "outputId": "d1f2d70c-08a8-4026-c993-1d06a9ea1d35"
      },
      "source": [
        "print(data.columns)   #displays the columns of the data"
      ],
      "execution_count": 4,
      "outputs": [
        {
          "output_type": "stream",
          "text": [
            "Index(['Hours', 'Scores'], dtype='object')\n"
          ],
          "name": "stdout"
        }
      ]
    },
    {
      "cell_type": "markdown",
      "metadata": {
        "id": "QiZTwevZ-K1W"
      },
      "source": [
        "\n",
        "### **Interpretation:**\n",
        "**The dataset consists of 2 columns namely Hours and Scores.**"
      ]
    },
    {
      "cell_type": "markdown",
      "metadata": {
        "id": "uPz1bjTf-Xlf"
      },
      "source": [
        "## **Dataset Shape**"
      ]
    },
    {
      "cell_type": "code",
      "metadata": {
        "colab": {
          "base_uri": "https://localhost:8080/"
        },
        "id": "4KolCjsS-dlh",
        "outputId": "66489051-e36f-4fb1-fa5c-37ae14bead52"
      },
      "source": [
        "print(\"Shape of the dataset:\",data.shape)"
      ],
      "execution_count": 5,
      "outputs": [
        {
          "output_type": "stream",
          "text": [
            "Shape of the dataset: (25, 2)\n"
          ],
          "name": "stdout"
        }
      ]
    },
    {
      "cell_type": "markdown",
      "metadata": {
        "id": "ssiX6jq_-jd9"
      },
      "source": [
        "**Interpretation:**\n",
        "\n",
        "**The dataset consists of 25 rows and 2 columns**"
      ]
    },
    {
      "cell_type": "markdown",
      "metadata": {
        "id": "I5B9qiDG-ycV"
      },
      "source": [
        "## **Dataset Information**"
      ]
    },
    {
      "cell_type": "code",
      "metadata": {
        "colab": {
          "base_uri": "https://localhost:8080/"
        },
        "id": "ytk1OiBq-2Z9",
        "outputId": "b1e1efd9-29b9-4354-8cbd-880979b70f98"
      },
      "source": [
        "import warnings\n",
        "warnings.filterwarnings('ignore')\n",
        "data.info()"
      ],
      "execution_count": 6,
      "outputs": [
        {
          "output_type": "stream",
          "text": [
            "<class 'pandas.core.frame.DataFrame'>\n",
            "RangeIndex: 25 entries, 0 to 24\n",
            "Data columns (total 2 columns):\n",
            " #   Column  Non-Null Count  Dtype  \n",
            "---  ------  --------------  -----  \n",
            " 0   Hours   25 non-null     float64\n",
            " 1   Scores  25 non-null     int64  \n",
            "dtypes: float64(1), int64(1)\n",
            "memory usage: 528.0 bytes\n"
          ],
          "name": "stdout"
        }
      ]
    },
    {
      "cell_type": "markdown",
      "metadata": {
        "id": "1qJNdIpx-6Yl"
      },
      "source": [
        "**Interpretation:**\n",
        "\n",
        "**The dataset consists of 2 columns each with 25 non-null values. Column 'Hours' is of datatype float and 'Scores' is of the datatype int.**\n"
      ]
    },
    {
      "cell_type": "markdown",
      "metadata": {
        "id": "bC5smPhW_Nov"
      },
      "source": [
        "## **Statistical Description of Dataset**"
      ]
    },
    {
      "cell_type": "code",
      "metadata": {
        "colab": {
          "base_uri": "https://localhost:8080/",
          "height": 297
        },
        "id": "4NOZ-ed4_Tgm",
        "outputId": "96f91d2e-d961-4a80-e5b7-78e690553a4f"
      },
      "source": [
        "data.describe()\n"
      ],
      "execution_count": 7,
      "outputs": [
        {
          "output_type": "execute_result",
          "data": {
            "text/html": [
              "<div>\n",
              "<style scoped>\n",
              "    .dataframe tbody tr th:only-of-type {\n",
              "        vertical-align: middle;\n",
              "    }\n",
              "\n",
              "    .dataframe tbody tr th {\n",
              "        vertical-align: top;\n",
              "    }\n",
              "\n",
              "    .dataframe thead th {\n",
              "        text-align: right;\n",
              "    }\n",
              "</style>\n",
              "<table border=\"1\" class=\"dataframe\">\n",
              "  <thead>\n",
              "    <tr style=\"text-align: right;\">\n",
              "      <th></th>\n",
              "      <th>Hours</th>\n",
              "      <th>Scores</th>\n",
              "    </tr>\n",
              "  </thead>\n",
              "  <tbody>\n",
              "    <tr>\n",
              "      <th>count</th>\n",
              "      <td>25.000000</td>\n",
              "      <td>25.000000</td>\n",
              "    </tr>\n",
              "    <tr>\n",
              "      <th>mean</th>\n",
              "      <td>5.012000</td>\n",
              "      <td>51.480000</td>\n",
              "    </tr>\n",
              "    <tr>\n",
              "      <th>std</th>\n",
              "      <td>2.525094</td>\n",
              "      <td>25.286887</td>\n",
              "    </tr>\n",
              "    <tr>\n",
              "      <th>min</th>\n",
              "      <td>1.100000</td>\n",
              "      <td>17.000000</td>\n",
              "    </tr>\n",
              "    <tr>\n",
              "      <th>25%</th>\n",
              "      <td>2.700000</td>\n",
              "      <td>30.000000</td>\n",
              "    </tr>\n",
              "    <tr>\n",
              "      <th>50%</th>\n",
              "      <td>4.800000</td>\n",
              "      <td>47.000000</td>\n",
              "    </tr>\n",
              "    <tr>\n",
              "      <th>75%</th>\n",
              "      <td>7.400000</td>\n",
              "      <td>75.000000</td>\n",
              "    </tr>\n",
              "    <tr>\n",
              "      <th>max</th>\n",
              "      <td>9.200000</td>\n",
              "      <td>95.000000</td>\n",
              "    </tr>\n",
              "  </tbody>\n",
              "</table>\n",
              "</div>"
            ],
            "text/plain": [
              "           Hours     Scores\n",
              "count  25.000000  25.000000\n",
              "mean    5.012000  51.480000\n",
              "std     2.525094  25.286887\n",
              "min     1.100000  17.000000\n",
              "25%     2.700000  30.000000\n",
              "50%     4.800000  47.000000\n",
              "75%     7.400000  75.000000\n",
              "max     9.200000  95.000000"
            ]
          },
          "metadata": {
            "tags": []
          },
          "execution_count": 7
        }
      ]
    },
    {
      "cell_type": "markdown",
      "metadata": {
        "id": "AIsg9uf__YIH"
      },
      "source": [
        "## **4. DATA PRE-PROCESSING**"
      ]
    },
    {
      "cell_type": "markdown",
      "metadata": {
        "id": "y5aXs0Y7_fE4"
      },
      "source": [
        "### **Checking for duplicate records**"
      ]
    },
    {
      "cell_type": "code",
      "metadata": {
        "colab": {
          "base_uri": "https://localhost:8080/"
        },
        "id": "GSwwDjVM_kim",
        "outputId": "e6182b35-c95b-4eed-e049-8920a18c644b"
      },
      "source": [
        "duplicate_rows_data = data[data.duplicated()]\n",
        "print(\"Number of duplicate rows: \", duplicate_rows_data.shape)"
      ],
      "execution_count": 8,
      "outputs": [
        {
          "output_type": "stream",
          "text": [
            "Number of duplicate rows:  (0, 2)\n"
          ],
          "name": "stdout"
        }
      ]
    },
    {
      "cell_type": "markdown",
      "metadata": {
        "id": "bx1ydqgH_oLI"
      },
      "source": [
        "**Interpretation:**\n",
        "\n",
        "**The dataset consists of no duplicate records.**"
      ]
    },
    {
      "cell_type": "markdown",
      "metadata": {
        "id": "yCtcKbWd_yJp"
      },
      "source": [
        "## **Checking for null values**"
      ]
    },
    {
      "cell_type": "code",
      "metadata": {
        "colab": {
          "base_uri": "https://localhost:8080/"
        },
        "id": "-OZ0C_3N_4LP",
        "outputId": "cbc5f891-7230-457d-8a0a-9c28dc3afb1d"
      },
      "source": [
        "print(data.isnull().sum())"
      ],
      "execution_count": 9,
      "outputs": [
        {
          "output_type": "stream",
          "text": [
            "Hours     0\n",
            "Scores    0\n",
            "dtype: int64\n"
          ],
          "name": "stdout"
        }
      ]
    },
    {
      "cell_type": "markdown",
      "metadata": {
        "id": "fK6l24_w_9Ki"
      },
      "source": [
        "**Interpretation:**\n",
        "\n",
        "**The dataset consists of no null or missing values. Therefore data-preprocessing is not required on this dataset.**"
      ]
    },
    {
      "cell_type": "markdown",
      "metadata": {
        "id": "z_UtFImyAT4n"
      },
      "source": [
        "## **Data Visualization**\n",
        "\n",
        "**Plotting hours and scores**"
      ]
    },
    {
      "cell_type": "code",
      "metadata": {
        "colab": {
          "base_uri": "https://localhost:8080/",
          "height": 295
        },
        "id": "mXJhs619AZoC",
        "outputId": "32971f2f-f423-4a92-ab05-0f84dea3362b"
      },
      "source": [
        "data.plot(x='Hours',y='Scores', style='d')        #plotting\n",
        "plt.title('Hours v/s Percentage')   #title of the plot\n",
        "plt.xlabel('Hours Studied')         #label of x-axis\n",
        "plt.ylabel('Percentage Scored')     #label of y-axis\n",
        "plt.show()                          #display the plot"
      ],
      "execution_count": 10,
      "outputs": [
        {
          "output_type": "display_data",
          "data": {
            "image/png": "[encoded data removed]",
            "text/plain": [
              "<Figure size 432x288 with 1 Axes>"
            ]
          },
          "metadata": {
            "tags": [],
            "needs_background": "light"
          }
        }
      ]
    },
    {
      "cell_type": "markdown",
      "metadata": {
        "id": "LP28XWSzAgw2"
      },
      "source": [
        "**Interpretation:**\n",
        "\n",
        "**From the above graph, it is clear that both 'Hours' and 'Percentage' are linearly dependent i.e. as the number of study hours increases, the percentage scored also increases.**"
      ]
    },
    {
      "cell_type": "markdown",
      "metadata": {
        "id": "7iR1StuSAo7W"
      },
      "source": [
        "## **5. MODEL CONSTRUCTION STEPS**\n",
        "\n",
        "i. Splitting data into training set and test set\n",
        "\n",
        "ii. Model training using training data\n",
        "\n",
        "iii. Plotting regression line\n",
        "\n",
        "iv. Model prediction using test data\n",
        "\n",
        "v. Model Evaluation "
      ]
    },
    {
      "cell_type": "markdown",
      "metadata": {
        "id": "6GmR0NGOA9Ng"
      },
      "source": [
        "### **i. Train-test Split**"
      ]
    },
    {
      "cell_type": "code",
      "metadata": {
        "id": "zZ-2kcQxBCJ8"
      },
      "source": [
        "X = data.iloc[:,:-1].values\n",
        "y = data.iloc[:,1].values\n",
        "\n",
        "#importing train_test_split\n",
        "from sklearn.model_selection import train_test_split\n",
        "X_train,X_test,y_train,y_test = train_test_split(X,y,test_size=0.2,random_state=0)  #80% - training data, 20% - testing data"
      ],
      "execution_count": 11,
      "outputs": []
    },
    {
      "cell_type": "markdown",
      "metadata": {
        "id": "Bu8cRBxFBILI"
      },
      "source": [
        "### **ii. Model Training**"
      ]
    },
    {
      "cell_type": "code",
      "metadata": {
        "colab": {
          "base_uri": "https://localhost:8080/"
        },
        "id": "DfM4OIkuBJzW",
        "outputId": "b07f1634-0f40-4149-a30c-b320e32373c6"
      },
      "source": [
        "#fitting data into model\n",
        "from sklearn.linear_model import LinearRegression\n",
        "regression = LinearRegression()\n",
        "regression.fit(X_train, y_train)\n",
        "print()"
      ],
      "execution_count": 12,
      "outputs": [
        {
          "output_type": "stream",
          "text": [
            "\n"
          ],
          "name": "stdout"
        }
      ]
    },
    {
      "cell_type": "markdown",
      "metadata": {
        "id": "6BUCDtOVBPu-"
      },
      "source": [
        "### **iii.Regression Line**"
      ]
    },
    {
      "cell_type": "code",
      "metadata": {
        "colab": {
          "base_uri": "https://localhost:8080/",
          "height": 204
        },
        "id": "ExwN0J8iBRep",
        "outputId": "4af3e444-a58e-4e6f-ab70-0b616f6cec62"
      },
      "source": [
        "pred_y = regression.predict(X_test)\n",
        "prediction = pd.DataFrame({'Hours': [i[0] for i in X_test], 'Predicted Scores': [k for k in pred_y]})\n",
        "prediction"
      ],
      "execution_count": 13,
      "outputs": [
        {
          "output_type": "execute_result",
          "data": {
            "text/html": [
              "<div>\n",
              "<style scoped>\n",
              "    .dataframe tbody tr th:only-of-type {\n",
              "        vertical-align: middle;\n",
              "    }\n",
              "\n",
              "    .dataframe tbody tr th {\n",
              "        vertical-align: top;\n",
              "    }\n",
              "\n",
              "    .dataframe thead th {\n",
              "        text-align: right;\n",
              "    }\n",
              "</style>\n",
              "<table border=\"1\" class=\"dataframe\">\n",
              "  <thead>\n",
              "    <tr style=\"text-align: right;\">\n",
              "      <th></th>\n",
              "      <th>Hours</th>\n",
              "      <th>Predicted Scores</th>\n",
              "    </tr>\n",
              "  </thead>\n",
              "  <tbody>\n",
              "    <tr>\n",
              "      <th>0</th>\n",
              "      <td>1.5</td>\n",
              "      <td>16.884145</td>\n",
              "    </tr>\n",
              "    <tr>\n",
              "      <th>1</th>\n",
              "      <td>3.2</td>\n",
              "      <td>33.732261</td>\n",
              "    </tr>\n",
              "    <tr>\n",
              "      <th>2</th>\n",
              "      <td>7.4</td>\n",
              "      <td>75.357018</td>\n",
              "    </tr>\n",
              "    <tr>\n",
              "      <th>3</th>\n",
              "      <td>2.5</td>\n",
              "      <td>26.794801</td>\n",
              "    </tr>\n",
              "    <tr>\n",
              "      <th>4</th>\n",
              "      <td>5.9</td>\n",
              "      <td>60.491033</td>\n",
              "    </tr>\n",
              "  </tbody>\n",
              "</table>\n",
              "</div>"
            ],
            "text/plain": [
              "   Hours  Predicted Scores\n",
              "0    1.5         16.884145\n",
              "1    3.2         33.732261\n",
              "2    7.4         75.357018\n",
              "3    2.5         26.794801\n",
              "4    5.9         60.491033"
            ]
          },
          "metadata": {
            "tags": []
          },
          "execution_count": 13
        }
      ]
    },
    {
      "cell_type": "markdown",
      "metadata": {
        "id": "PpDif8d4BWJu"
      },
      "source": [
        "### **Plotting Regression Line**"
      ]
    },
    {
      "cell_type": "code",
      "metadata": {
        "colab": {
          "base_uri": "https://localhost:8080/",
          "height": 265
        },
        "id": "iglFEy3gBare",
        "outputId": "d206837d-36f2-410d-92fc-70a343abc488"
      },
      "source": [
        "regression_line = regression.coef_*X+regression.intercept_\n",
        "\n",
        "plt.scatter(X,y,color='blue')     #scatter plot of data points in blue color \n",
        "plt.plot(X,regression_line,color='red')   #regression line in red color\n",
        "plt.show()        #display plot"
      ],
      "execution_count": 14,
      "outputs": [
        {
          "output_type": "display_data",
          "data": {
            "image/png": "[encoded data removed]",
            "text/plain": [
              "<Figure size 432x288 with 1 Axes>"
            ]
          },
          "metadata": {
            "tags": [],
            "needs_background": "light"
          }
        }
      ]
    },
    {
      "cell_type": "markdown",
      "metadata": {
        "id": "mdGvbVnvBfds"
      },
      "source": [
        "### **Correlation between 'Hours' and 'Scores'**"
      ]
    },
    {
      "cell_type": "code",
      "metadata": {
        "colab": {
          "base_uri": "https://localhost:8080/"
        },
        "id": "TguPYQrGBkKO",
        "outputId": "36b3befb-fad8-4212-ed5f-6375fa99a902"
      },
      "source": [
        "print(data.corr())"
      ],
      "execution_count": 15,
      "outputs": [
        {
          "output_type": "stream",
          "text": [
            "           Hours    Scores\n",
            "Hours   1.000000  0.976191\n",
            "Scores  0.976191  1.000000\n"
          ],
          "name": "stdout"
        }
      ]
    },
    {
      "cell_type": "markdown",
      "metadata": {
        "id": "PZfCmY_7BojY"
      },
      "source": [
        "\n",
        "**Interpretation:**\n",
        "\n",
        "**The variables 'Hours' and 'Scores' are positively correlated.**"
      ]
    },
    {
      "cell_type": "markdown",
      "metadata": {
        "id": "MggWRsTmBwZh"
      },
      "source": [
        "### **iv. Model Prediction**"
      ]
    },
    {
      "cell_type": "code",
      "metadata": {
        "colab": {
          "base_uri": "https://localhost:8080/"
        },
        "id": "tAJKb_mIB0Bn",
        "outputId": "ee38b19e-cb09-4db9-ca37-4ae51b607318"
      },
      "source": [
        "print(X_test)   #test data\n",
        "y_predict = regression.predict(X_test)      #predicting scores(y) using x-test data"
      ],
      "execution_count": 16,
      "outputs": [
        {
          "output_type": "stream",
          "text": [
            "[[1.5]\n",
            " [3.2]\n",
            " [7.4]\n",
            " [2.5]\n",
            " [5.9]]\n"
          ],
          "name": "stdout"
        }
      ]
    },
    {
      "cell_type": "markdown",
      "metadata": {
        "id": "TNIp2mICB4PX"
      },
      "source": [
        "### **Predicting score based on the number of hours**"
      ]
    },
    {
      "cell_type": "code",
      "metadata": {
        "colab": {
          "base_uri": "https://localhost:8080/"
        },
        "id": "so6qQ2XYB9D_",
        "outputId": "9f979c0c-62d6-452a-bbbe-2af5b19f7bdf"
      },
      "source": [
        "hours = [9.25]\n",
        "score_predicted = regression.predict([hours])\n",
        "print(\"Number of hours = {}\".format(hours))\n",
        "print(\"Predicted Score = {}\".format(round(score_predicted[0],2)))"
      ],
      "execution_count": 17,
      "outputs": [
        {
          "output_type": "stream",
          "text": [
            "Number of hours = [9.25]\n",
            "Predicted Score = 93.69\n"
          ],
          "name": "stdout"
        }
      ]
    },
    {
      "cell_type": "code",
      "metadata": {
        "colab": {
          "base_uri": "https://localhost:8080/",
          "height": 295
        },
        "id": "ZwsoGK_6CBbX",
        "outputId": "59d14351-23bc-4a88-ff5c-f43eca2ddd52"
      },
      "source": [
        "data.plot(x='Hours',y='Scores', style='d',label='Score')        \n",
        "hour = [9.25]\n",
        "score = [score_predicted[0]]\n",
        "plt.scatter(hour,score,color='purple',label='Predicted Score')      #scatter plot of the predicted score\n",
        "plt.plot(X,regression_line,color='red')       #plotting regression line\n",
        "plt.title('Hours v/s Percentage')   #title of the plot\n",
        "plt.xlabel('Hours Studied')         #label of x-axis\n",
        "plt.ylabel('Percentage Scored')     #label of y-axis\n",
        "plt.legend()\n",
        "plt.show()                          #display the plot"
      ],
      "execution_count": 18,
      "outputs": [
        {
          "output_type": "display_data",
          "data": {
            "image/png": "[encoded data removed]",
            "text/plain": [
              "<Figure size 432x288 with 1 Axes>"
            ]
          },
          "metadata": {
            "tags": [],
            "needs_background": "light"
          }
        }
      ]
    },
    {
      "cell_type": "markdown",
      "metadata": {
        "id": "fVEgA71ZCGzn"
      },
      "source": [
        "## **v. Model Evaluation**"
      ]
    },
    {
      "cell_type": "markdown",
      "metadata": {
        "id": "hV34hYP9CMnb"
      },
      "source": [
        "**Comparing Actual and Predicted values**"
      ]
    },
    {
      "cell_type": "code",
      "metadata": {
        "colab": {
          "base_uri": "https://localhost:8080/",
          "height": 204
        },
        "id": "5npRKtvgCQA3",
        "outputId": "498237e9-8ce8-4e1d-aec5-e75f70297ed0"
      },
      "source": [
        "compare = pd.DataFrame({'Actual':y_test, 'Predicted':y_predict})\n",
        "compare"
      ],
      "execution_count": 19,
      "outputs": [
        {
          "output_type": "execute_result",
          "data": {
            "text/html": [
              "<div>\n",
              "<style scoped>\n",
              "    .dataframe tbody tr th:only-of-type {\n",
              "        vertical-align: middle;\n",
              "    }\n",
              "\n",
              "    .dataframe tbody tr th {\n",
              "        vertical-align: top;\n",
              "    }\n",
              "\n",
              "    .dataframe thead th {\n",
              "        text-align: right;\n",
              "    }\n",
              "</style>\n",
              "<table border=\"1\" class=\"dataframe\">\n",
              "  <thead>\n",
              "    <tr style=\"text-align: right;\">\n",
              "      <th></th>\n",
              "      <th>Actual</th>\n",
              "      <th>Predicted</th>\n",
              "    </tr>\n",
              "  </thead>\n",
              "  <tbody>\n",
              "    <tr>\n",
              "      <th>0</th>\n",
              "      <td>20</td>\n",
              "      <td>16.884145</td>\n",
              "    </tr>\n",
              "    <tr>\n",
              "      <th>1</th>\n",
              "      <td>27</td>\n",
              "      <td>33.732261</td>\n",
              "    </tr>\n",
              "    <tr>\n",
              "      <th>2</th>\n",
              "      <td>69</td>\n",
              "      <td>75.357018</td>\n",
              "    </tr>\n",
              "    <tr>\n",
              "      <th>3</th>\n",
              "      <td>30</td>\n",
              "      <td>26.794801</td>\n",
              "    </tr>\n",
              "    <tr>\n",
              "      <th>4</th>\n",
              "      <td>62</td>\n",
              "      <td>60.491033</td>\n",
              "    </tr>\n",
              "  </tbody>\n",
              "</table>\n",
              "</div>"
            ],
            "text/plain": [
              "   Actual  Predicted\n",
              "0      20  16.884145\n",
              "1      27  33.732261\n",
              "2      69  75.357018\n",
              "3      30  26.794801\n",
              "4      62  60.491033"
            ]
          },
          "metadata": {
            "tags": []
          },
          "execution_count": 19
        }
      ]
    },
    {
      "cell_type": "markdown",
      "metadata": {
        "id": "3TpgEbVdCUrX"
      },
      "source": [
        "**Calculating Mean Absolute Error**"
      ]
    },
    {
      "cell_type": "code",
      "metadata": {
        "colab": {
          "base_uri": "https://localhost:8080/"
        },
        "id": "Bqid1-lkCXgH",
        "outputId": "d05d34f7-c484-4862-d674-2fd8aae1ec64"
      },
      "source": [
        "from sklearn import metrics\n",
        "print(\"Mean Absolute Error:\", metrics.mean_absolute_error(y_test,y_predict))"
      ],
      "execution_count": 20,
      "outputs": [
        {
          "output_type": "stream",
          "text": [
            "Mean Absolute Error: 4.183859899002982\n"
          ],
          "name": "stdout"
        }
      ]
    },
    {
      "cell_type": "markdown",
      "metadata": {
        "id": "Kn5yeRNjCawt"
      },
      "source": [
        "**Interpretation:**\n",
        "\n",
        "**Mean absolute error is the measure of average of the amount of error. Lower value of better prediction. Here the value is 4.18 which is good as it is very low.**"
      ]
    },
    {
      "cell_type": "markdown",
      "metadata": {
        "id": "igraGFxCCgyn"
      },
      "source": [
        "## **6. Conclusion**\n",
        "\n",
        "## **With respect to simple linear regression model, if a student studies for more than 9.25 hours per day then that student is most likely to score a percentage of 93.69.**\n"
      ]
    }
  ]
}